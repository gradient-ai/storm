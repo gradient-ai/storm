{
 "cells": [
  {
   "cell_type": "markdown",
   "id": "4ed5c182-73fb-48c5-bb05-12a652608396",
   "metadata": {},
   "source": [
    "# Setup the demo"
   ]
  },
  {
   "cell_type": "code",
   "execution_count": null,
   "id": "e445f07f-e337-493d-bfe5-b46dc6eeaf74",
   "metadata": {
    "execution": {
     "iopub.execute_input": "2024-05-01T00:32:16.912301Z",
     "iopub.status.busy": "2024-05-01T00:32:16.911675Z",
     "iopub.status.idle": "2024-05-01T00:42:06.545970Z",
     "shell.execute_reply": "2024-05-01T00:42:06.544974Z",
     "shell.execute_reply.started": "2024-05-01T00:32:16.912269Z"
    }
   },
   "outputs": [],
   "source": [
    "!git pull\n",
    "!pip install -r requirements.txt\n",
    "!pip install -U huggingface-hub anthropic\n",
    "!pip uninstall jax jaxlib tensorflow -y\n",
    "!pip install vllm==0.2.7"
   ]
  },
  {
   "cell_type": "code",
   "execution_count": null,
   "id": "19998752-cbc0-40b9-87fd-62a0dd347be4",
   "metadata": {
    "execution": {
     "iopub.execute_input": "2024-04-30T18:17:07.998358Z",
     "iopub.status.busy": "2024-04-30T18:17:07.997682Z",
     "iopub.status.idle": "2024-04-30T18:17:08.154155Z",
     "shell.execute_reply": "2024-04-30T18:17:08.153658Z",
     "shell.execute_reply.started": "2024-04-30T18:17:07.998323Z"
    }
   },
   "outputs": [],
   "source": [
    "import huggingface_hub\n",
    "huggingface_hub.notebook_login()"
   ]
  },
  {
   "cell_type": "markdown",
   "id": "6a4782a8-e85c-4b2f-a4c9-9f5784e471e9",
   "metadata": {},
   "source": [
    "# Run your LLM using VLLM package\n",
    "\n",
    "This will run the model on VLLM using the Paperspace resources. This is an alternative to using the OpenAI methodology. "
   ]
  },
  {
   "cell_type": "code",
   "execution_count": null,
   "id": "544f4f8d-97b5-498b-9166-496bd4bf91a9",
   "metadata": {
    "execution": {
     "iopub.execute_input": "2024-05-01T00:46:06.058120Z",
     "iopub.status.busy": "2024-05-01T00:46:06.057260Z"
    }
   },
   "outputs": [],
   "source": [
    "!python -m vllm.entrypoints.openai.api_server --port 6006 --model 'mistralai/Mistral-7B-Instruct-v0.2'"
   ]
  },
  {
   "cell_type": "markdown",
   "id": "c0e72e73-5482-4125-b5f3-235369968a73",
   "metadata": {},
   "source": [
    "# Paste this in the terminal, to run STORM:\n",
    "\n",
    "```\n",
    "python examples/run_storm_wiki_mistral.py \\\n",
    "    --url \"http://localhost\" \\\n",
    "    --port 6006 \\\n",
    "    --output-dir '/notebooks/results/' \\\n",
    "    --do-research \\\n",
    "    --do-generate-outline \\\n",
    "    --do-generate-article \\\n",
    "    --do-polish-article\n",
    "```"
   ]
  },
  {
   "cell_type": "code",
   "execution_count": null,
   "id": "7e740472-5d89-4222-8ebb-79c7c9a3489b",
   "metadata": {},
   "outputs": [],
   "source": []
  }
 ],
 "metadata": {
  "kernelspec": {
   "display_name": "Python 3 (ipykernel)",
   "language": "python",
   "name": "python3"
  },
  "language_info": {
   "codemirror_mode": {
    "name": "ipython",
    "version": 3
   },
   "file_extension": ".py",
   "mimetype": "text/x-python",
   "name": "python",
   "nbconvert_exporter": "python",
   "pygments_lexer": "ipython3",
   "version": "3.9.16"
  }
 },
 "nbformat": 4,
 "nbformat_minor": 5
}
